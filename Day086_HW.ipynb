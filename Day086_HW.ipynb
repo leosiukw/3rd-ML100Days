{
 "cells": [
  {
   "cell_type": "markdown",
   "metadata": {},
   "source": [
    "## Work\n",
    "1. 試比較 save_best_only 與否的差異\n",
    "2. 請僅存入將 save_weights_only 設定為 True, 並嘗試 reset ipynb 並將模型與權重重新建回並預測 x_test"
   ]
  },
  {
   "cell_type": "code",
   "execution_count": 1,
   "metadata": {},
   "outputs": [
    {
     "name": "stderr",
     "output_type": "stream",
     "text": [
      "Using TensorFlow backend.\n"
     ]
    }
   ],
   "source": [
    "import os\n",
    "import keras\n",
    "\n",
    "# Disable GPU\n",
    "os.environ[\"CUDA_VISIBLE_DEVICES\"] = \"\""
   ]
  },
  {
   "cell_type": "code",
   "execution_count": 2,
   "metadata": {},
   "outputs": [],
   "source": [
    "train, test = keras.datasets.cifar10.load_data()"
   ]
  },
  {
   "cell_type": "code",
   "execution_count": 3,
   "metadata": {},
   "outputs": [],
   "source": [
    "## 資料前處理\n",
    "def preproc_x(x, flatten=True):\n",
    "    x = x / 255.\n",
    "    if flatten:\n",
    "        x = x.reshape((len(x), -1))\n",
    "    return x\n",
    "\n",
    "def preproc_y(y, num_classes=10):\n",
    "    if y.shape[-1] == 1:\n",
    "        y = keras.utils.to_categorical(y, num_classes)\n",
    "    return y    "
   ]
  },
  {
   "cell_type": "code",
   "execution_count": 4,
   "metadata": {},
   "outputs": [],
   "source": [
    "x_train, y_train = train\n",
    "x_test, y_test = test\n",
    "\n",
    "# Preproc the inputs\n",
    "x_train = preproc_x(x_train)\n",
    "x_test = preproc_x(x_test)\n",
    "\n",
    "# Preprc the outputs\n",
    "y_train = preproc_y(y_train)\n",
    "y_test = preproc_y(y_test)"
   ]
  },
  {
   "cell_type": "code",
   "execution_count": 5,
   "metadata": {},
   "outputs": [],
   "source": [
    "from keras.layers import BatchNormalization\n",
    "\n",
    "def build_mlp(input_shape, output_units=10, num_neurons=[512, 256, 128]):\n",
    "    \"\"\"Code Here\n",
    "    建立你的神經網路\n",
    "    \"\"\"\n",
    "    input_layer = keras.layers.Input(input_shape)\n",
    "    \n",
    "    for i, n_units in enumerate(num_neurons):\n",
    "        if i == 0:\n",
    "            x = keras.layers.Dense(units=n_units, \n",
    "                                   activation=\"relu\", \n",
    "                                   name=\"hidden_layer\"+str(i+1))(input_layer)\n",
    "            x = BatchNormalization()(x)\n",
    "        else:\n",
    "            x = keras.layers.Dense(units=n_units, \n",
    "                                   activation=\"relu\", \n",
    "                                   name=\"hidden_layer\"+str(i+1))(x)\n",
    "            x = BatchNormalization()(x)\n",
    "    \n",
    "    out = keras.layers.Dense(units=output_units, activation=\"softmax\", name=\"output\")(x)\n",
    "    \n",
    "    model = keras.models.Model(inputs=[input_layer], outputs=[out])\n",
    "    return model"
   ]
  },
  {
   "cell_type": "code",
   "execution_count": 6,
   "metadata": {},
   "outputs": [],
   "source": [
    "\"\"\"Code Here\n",
    "設定超參數\n",
    "\"\"\"\n",
    "LEARNING_RATE = 1e-3\n",
    "EPOCHS = 50\n",
    "BATCH_SIZE = 1024\n",
    "MOMENTUM = 0.95"
   ]
  },
  {
   "cell_type": "code",
   "execution_count": 7,
   "metadata": {},
   "outputs": [
    {
     "name": "stdout",
     "output_type": "stream",
     "text": [
      "Model: \"model_1\"\n",
      "_________________________________________________________________\n",
      "Layer (type)                 Output Shape              Param #   \n",
      "=================================================================\n",
      "input_1 (InputLayer)         (None, 3072)              0         \n",
      "_________________________________________________________________\n",
      "hidden_layer1 (Dense)        (None, 512)               1573376   \n",
      "_________________________________________________________________\n",
      "batch_normalization_1 (Batch (None, 512)               2048      \n",
      "_________________________________________________________________\n",
      "hidden_layer2 (Dense)        (None, 256)               131328    \n",
      "_________________________________________________________________\n",
      "batch_normalization_2 (Batch (None, 256)               1024      \n",
      "_________________________________________________________________\n",
      "hidden_layer3 (Dense)        (None, 128)               32896     \n",
      "_________________________________________________________________\n",
      "batch_normalization_3 (Batch (None, 128)               512       \n",
      "_________________________________________________________________\n",
      "output (Dense)               (None, 10)                1290      \n",
      "=================================================================\n",
      "Total params: 1,742,474\n",
      "Trainable params: 1,740,682\n",
      "Non-trainable params: 1,792\n",
      "_________________________________________________________________\n",
      "Train on 50000 samples, validate on 10000 samples\n",
      "Epoch 1/50\n",
      "50000/50000 [==============================] - 6s 123us/step - loss: 2.2064 - accuracy: 0.2634 - val_loss: 2.1182 - val_accuracy: 0.2094\n",
      "Epoch 2/50\n",
      "50000/50000 [==============================] - 5s 98us/step - loss: 1.7375 - accuracy: 0.3931 - val_loss: 1.9270 - val_accuracy: 0.3267\n",
      "Epoch 3/50\n",
      "50000/50000 [==============================] - 4s 83us/step - loss: 1.6156 - accuracy: 0.4347 - val_loss: 1.7872 - val_accuracy: 0.3902\n",
      "Epoch 4/50\n",
      "50000/50000 [==============================] - 4s 82us/step - loss: 1.5443 - accuracy: 0.4607 - val_loss: 1.6915 - val_accuracy: 0.4194\n",
      "Epoch 5/50\n",
      "50000/50000 [==============================] - 4s 82us/step - loss: 1.4906 - accuracy: 0.4786 - val_loss: 1.6182 - val_accuracy: 0.4443\n",
      "Epoch 6/50\n",
      "50000/50000 [==============================] - 4s 86us/step - loss: 1.4443 - accuracy: 0.4963 - val_loss: 1.5775 - val_accuracy: 0.4481\n",
      "Epoch 7/50\n",
      "50000/50000 [==============================] - 4s 84us/step - loss: 1.4049 - accuracy: 0.5105 - val_loss: 1.5340 - val_accuracy: 0.4631\n",
      "Epoch 8/50\n",
      "50000/50000 [==============================] - 4s 89us/step - loss: 1.3696 - accuracy: 0.5219 - val_loss: 1.5103 - val_accuracy: 0.4690\n",
      "Epoch 9/50\n",
      "50000/50000 [==============================] - 4s 85us/step - loss: 1.3382 - accuracy: 0.5345 - val_loss: 1.5034 - val_accuracy: 0.4667\n",
      "Epoch 10/50\n",
      "50000/50000 [==============================] - 4s 83us/step - loss: 1.3087 - accuracy: 0.5458 - val_loss: 1.4841 - val_accuracy: 0.4765\n",
      "Epoch 11/50\n",
      "50000/50000 [==============================] - 4s 88us/step - loss: 1.2820 - accuracy: 0.5545 - val_loss: 1.4790 - val_accuracy: 0.4788\n",
      "Epoch 12/50\n",
      "50000/50000 [==============================] - 5s 92us/step - loss: 1.2547 - accuracy: 0.5664 - val_loss: 1.4612 - val_accuracy: 0.4823\n",
      "Epoch 13/50\n",
      "50000/50000 [==============================] - 5s 98us/step - loss: 1.2280 - accuracy: 0.5750 - val_loss: 1.4617 - val_accuracy: 0.4879\n",
      "Epoch 14/50\n",
      "50000/50000 [==============================] - 4s 85us/step - loss: 1.2031 - accuracy: 0.5834 - val_loss: 1.4647 - val_accuracy: 0.4849\n",
      "Epoch 15/50\n",
      "50000/50000 [==============================] - 4s 87us/step - loss: 1.1781 - accuracy: 0.5945 - val_loss: 1.4701 - val_accuracy: 0.4874\n",
      "Epoch 16/50\n",
      "50000/50000 [==============================] - 5s 95us/step - loss: 1.1551 - accuracy: 0.6027 - val_loss: 1.4657 - val_accuracy: 0.4879\n",
      "Epoch 17/50\n",
      "50000/50000 [==============================] - 5s 90us/step - loss: 1.1326 - accuracy: 0.6109 - val_loss: 1.4608 - val_accuracy: 0.4908\n",
      "Epoch 18/50\n",
      "50000/50000 [==============================] - 4s 83us/step - loss: 1.1100 - accuracy: 0.6199 - val_loss: 1.4530 - val_accuracy: 0.4931\n",
      "Epoch 19/50\n",
      "50000/50000 [==============================] - 4s 86us/step - loss: 1.0886 - accuracy: 0.6277 - val_loss: 1.4620 - val_accuracy: 0.4934\n",
      "Epoch 20/50\n",
      "50000/50000 [==============================] - 4s 89us/step - loss: 1.0659 - accuracy: 0.6375 - val_loss: 1.4620 - val_accuracy: 0.4976\n",
      "Epoch 21/50\n",
      "50000/50000 [==============================] - 4s 86us/step - loss: 1.0447 - accuracy: 0.6453 - val_loss: 1.4508 - val_accuracy: 0.4924\n",
      "Epoch 22/50\n",
      "50000/50000 [==============================] - 4s 85us/step - loss: 1.0236 - accuracy: 0.6538 - val_loss: 1.4539 - val_accuracy: 0.4953\n",
      "Epoch 23/50\n",
      "50000/50000 [==============================] - 4s 89us/step - loss: 1.0025 - accuracy: 0.6615 - val_loss: 1.4567 - val_accuracy: 0.4911\n",
      "Epoch 24/50\n",
      "50000/50000 [==============================] - 4s 90us/step - loss: 0.9816 - accuracy: 0.6701 - val_loss: 1.4638 - val_accuracy: 0.4909\n",
      "Epoch 25/50\n",
      "50000/50000 [==============================] - 4s 84us/step - loss: 0.9626 - accuracy: 0.6776 - val_loss: 1.4661 - val_accuracy: 0.4978\n",
      "Epoch 26/50\n",
      "50000/50000 [==============================] - 4s 87us/step - loss: 0.9415 - accuracy: 0.6867 - val_loss: 1.4703 - val_accuracy: 0.4970\n",
      "Epoch 27/50\n",
      "50000/50000 [==============================] - 4s 89us/step - loss: 0.9219 - accuracy: 0.6936 - val_loss: 1.4751 - val_accuracy: 0.4929\n",
      "Epoch 28/50\n",
      "50000/50000 [==============================] - 5s 97us/step - loss: 0.9012 - accuracy: 0.7014 - val_loss: 1.4758 - val_accuracy: 0.4948\n",
      "Epoch 29/50\n",
      "50000/50000 [==============================] - 5s 91us/step - loss: 0.8817 - accuracy: 0.7088 - val_loss: 1.4770 - val_accuracy: 0.4939\n",
      "Epoch 30/50\n",
      "50000/50000 [==============================] - 4s 89us/step - loss: 0.8595 - accuracy: 0.7181 - val_loss: 1.4808 - val_accuracy: 0.4984\n",
      "Epoch 31/50\n",
      "50000/50000 [==============================] - 4s 89us/step - loss: 0.8427 - accuracy: 0.7223 - val_loss: 1.4880 - val_accuracy: 0.4966\n",
      "Epoch 32/50\n",
      "50000/50000 [==============================] - 4s 89us/step - loss: 0.8198 - accuracy: 0.7327 - val_loss: 1.4899 - val_accuracy: 0.4989\n",
      "Epoch 33/50\n",
      "50000/50000 [==============================] - 4s 84us/step - loss: 0.8007 - accuracy: 0.7398 - val_loss: 1.4966 - val_accuracy: 0.4969\n",
      "Epoch 34/50\n",
      "50000/50000 [==============================] - 4s 89us/step - loss: 0.7832 - accuracy: 0.7474 - val_loss: 1.5207 - val_accuracy: 0.4906\n",
      "Epoch 35/50\n",
      "50000/50000 [==============================] - 4s 89us/step - loss: 0.7636 - accuracy: 0.7537 - val_loss: 1.5180 - val_accuracy: 0.4946\n",
      "Epoch 36/50\n",
      "50000/50000 [==============================] - 4s 85us/step - loss: 0.7449 - accuracy: 0.7627 - val_loss: 1.5289 - val_accuracy: 0.4885\n",
      "Epoch 37/50\n",
      "50000/50000 [==============================] - 4s 87us/step - loss: 0.7273 - accuracy: 0.7692 - val_loss: 1.5384 - val_accuracy: 0.4952\n",
      "Epoch 38/50\n",
      "50000/50000 [==============================] - 4s 89us/step - loss: 0.7091 - accuracy: 0.7767 - val_loss: 1.5648 - val_accuracy: 0.4886\n",
      "Epoch 39/50\n",
      "50000/50000 [==============================] - 4s 87us/step - loss: 0.6886 - accuracy: 0.7846 - val_loss: 1.5550 - val_accuracy: 0.4956\n",
      "Epoch 40/50\n",
      "50000/50000 [==============================] - 4s 85us/step - loss: 0.6690 - accuracy: 0.7931 - val_loss: 1.5829 - val_accuracy: 0.4875\n",
      "Epoch 41/50\n",
      "50000/50000 [==============================] - 4s 89us/step - loss: 0.6523 - accuracy: 0.7989 - val_loss: 1.5570 - val_accuracy: 0.4982\n",
      "Epoch 42/50\n",
      "50000/50000 [==============================] - 4s 90us/step - loss: 0.6356 - accuracy: 0.8054 - val_loss: 1.5824 - val_accuracy: 0.4943\n",
      "Epoch 43/50\n",
      "50000/50000 [==============================] - 4s 84us/step - loss: 0.6164 - accuracy: 0.8142 - val_loss: 1.5945 - val_accuracy: 0.4918\n",
      "Epoch 44/50\n",
      "50000/50000 [==============================] - 4s 88us/step - loss: 0.5986 - accuracy: 0.8202 - val_loss: 1.5984 - val_accuracy: 0.4964\n",
      "Epoch 45/50\n",
      "50000/50000 [==============================] - 4s 90us/step - loss: 0.5814 - accuracy: 0.8274 - val_loss: 1.6112 - val_accuracy: 0.4898\n",
      "Epoch 46/50\n",
      "50000/50000 [==============================] - 4s 87us/step - loss: 0.5650 - accuracy: 0.8337 - val_loss: 1.6216 - val_accuracy: 0.4921\n",
      "Epoch 47/50\n",
      "50000/50000 [==============================] - 4s 85us/step - loss: 0.5478 - accuracy: 0.8416 - val_loss: 1.6426 - val_accuracy: 0.4943\n",
      "Epoch 48/50\n",
      "50000/50000 [==============================] - 5s 90us/step - loss: 0.5308 - accuracy: 0.8482 - val_loss: 1.6377 - val_accuracy: 0.4901\n",
      "Epoch 49/50\n",
      "50000/50000 [==============================] - 4s 90us/step - loss: 0.5141 - accuracy: 0.8539 - val_loss: 1.6973 - val_accuracy: 0.4876\n",
      "Epoch 50/50\n",
      "50000/50000 [==============================] - 4s 84us/step - loss: 0.4964 - accuracy: 0.8605 - val_loss: 1.6624 - val_accuracy: 0.4899\n"
     ]
    },
    {
     "ename": "KeyError",
     "evalue": "'acc'",
     "output_type": "error",
     "traceback": [
      "\u001b[1;31m---------------------------------------------------------------------------\u001b[0m",
      "\u001b[1;31mKeyError\u001b[0m                                  Traceback (most recent call last)",
      "\u001b[1;32m<ipython-input-7-91b5c03690b9>\u001b[0m in \u001b[0;36m<module>\u001b[1;34m\u001b[0m\n\u001b[0;32m     29\u001b[0m \u001b[0mtrain_loss\u001b[0m \u001b[1;33m=\u001b[0m \u001b[0mmodel\u001b[0m\u001b[1;33m.\u001b[0m\u001b[0mhistory\u001b[0m\u001b[1;33m.\u001b[0m\u001b[0mhistory\u001b[0m\u001b[1;33m[\u001b[0m\u001b[1;34m\"loss\"\u001b[0m\u001b[1;33m]\u001b[0m\u001b[1;33m\u001b[0m\u001b[1;33m\u001b[0m\u001b[0m\n\u001b[0;32m     30\u001b[0m \u001b[0mvalid_loss\u001b[0m \u001b[1;33m=\u001b[0m \u001b[0mmodel\u001b[0m\u001b[1;33m.\u001b[0m\u001b[0mhistory\u001b[0m\u001b[1;33m.\u001b[0m\u001b[0mhistory\u001b[0m\u001b[1;33m[\u001b[0m\u001b[1;34m\"val_loss\"\u001b[0m\u001b[1;33m]\u001b[0m\u001b[1;33m\u001b[0m\u001b[1;33m\u001b[0m\u001b[0m\n\u001b[1;32m---> 31\u001b[1;33m \u001b[0mtrain_acc\u001b[0m \u001b[1;33m=\u001b[0m \u001b[0mmodel\u001b[0m\u001b[1;33m.\u001b[0m\u001b[0mhistory\u001b[0m\u001b[1;33m.\u001b[0m\u001b[0mhistory\u001b[0m\u001b[1;33m[\u001b[0m\u001b[1;34m\"acc\"\u001b[0m\u001b[1;33m]\u001b[0m\u001b[1;33m\u001b[0m\u001b[1;33m\u001b[0m\u001b[0m\n\u001b[0m\u001b[0;32m     32\u001b[0m \u001b[0mvalid_acc\u001b[0m \u001b[1;33m=\u001b[0m \u001b[0mmodel\u001b[0m\u001b[1;33m.\u001b[0m\u001b[0mhistory\u001b[0m\u001b[1;33m.\u001b[0m\u001b[0mhistory\u001b[0m\u001b[1;33m[\u001b[0m\u001b[1;34m\"val_acc\"\u001b[0m\u001b[1;33m]\u001b[0m\u001b[1;33m\u001b[0m\u001b[1;33m\u001b[0m\u001b[0m\n\u001b[0;32m     33\u001b[0m \u001b[1;33m\u001b[0m\u001b[0m\n",
      "\u001b[1;31mKeyError\u001b[0m: 'acc'"
     ]
    }
   ],
   "source": [
    "# 載入 Callbacks\n",
    "\"\"\"Code Here\n",
    "設定 callbacks: model checkpoint\n",
    "\"\"\"\n",
    "from keras.callbacks import ModelCheckpoint\n",
    "\n",
    "model_ckpt = ModelCheckpoint(filepath=\"./tmp.h5\", \n",
    "                             monitor=\"val_loss\", \n",
    "                             save_best_only=False)\n",
    "\n",
    "results = {}\n",
    "\"\"\"Code Here\n",
    "撰寫你的訓練流程並將結果用 dictionary 紀錄\n",
    "\"\"\"\n",
    "model = build_mlp(input_shape=x_train.shape[1:])\n",
    "model.summary()\n",
    "optimizer = keras.optimizers.SGD(lr=LEARNING_RATE, nesterov=True, momentum=MOMENTUM)\n",
    "model.compile(loss=\"categorical_crossentropy\", metrics=[\"accuracy\"], optimizer=optimizer)\n",
    "\n",
    "model.fit(x_train, y_train, \n",
    "          epochs=EPOCHS, \n",
    "          batch_size=BATCH_SIZE, \n",
    "          validation_data=(x_test, y_test), \n",
    "          shuffle=True,\n",
    "          callbacks=[model_ckpt]\n",
    "         )"
   ]
  },
  {
   "cell_type": "code",
   "execution_count": 8,
   "metadata": {},
   "outputs": [
    {
     "name": "stdout",
     "output_type": "stream",
     "text": [
      "10000/10000 [==============================] - 1s 80us/step\n"
     ]
    }
   ],
   "source": [
    "# Collect results\n",
    "train_loss = model.history.history[\"loss\"]\n",
    "valid_loss = model.history.history[\"val_loss\"]\n",
    "train_acc = model.history.history[\"accuracy\"]\n",
    "valid_acc = model.history.history[\"val_accuracy\"]\n",
    "\n",
    "# Load back\n",
    "model = keras.models.load_model(\"./tmp.h5\")\n",
    "loss_loadback, acc_loadback = model.evaluate(x_test, y_test)"
   ]
  },
  {
   "cell_type": "code",
   "execution_count": 9,
   "metadata": {
    "scrolled": true
   },
   "outputs": [
    {
     "data": {
      "image/png": "[encoded data removed]",
      "text/plain": [
       "<Figure size 432x288 with 1 Axes>"
      ]
     },
     "metadata": {
      "needs_background": "light"
     },
     "output_type": "display_data"
    },
    {
     "data": {
      "image/png": "[encoded data removed]",
      "text/plain": [
       "<Figure size 432x288 with 1 Axes>"
      ]
     },
     "metadata": {
      "needs_background": "light"
     },
     "output_type": "display_data"
    }
   ],
   "source": [
    "import matplotlib.pyplot as plt\n",
    "%matplotlib inline\n",
    "\"\"\"Code Here\n",
    "將結果繪出\n",
    "\"\"\"\n",
    "plt.plot(range(len(train_loss)), train_loss, label=\"train loss\")\n",
    "plt.plot(range(len(valid_loss)), valid_loss, label=\"valid loss\")\n",
    "plt.hlines(y=loss_loadback, xmin=0, xmax=len(train_loss), colors='r', linestyles='--')\n",
    "plt.legend()\n",
    "plt.title(\"Loss\")\n",
    "plt.show()\n",
    "\n",
    "plt.plot(range(len(train_acc)), train_acc, label=\"train accuracy\")\n",
    "plt.plot(range(len(valid_acc)), valid_acc, label=\"valid accuracy\")\n",
    "plt.hlines(y=acc_loadback, xmin=0, xmax=len(train_loss), colors='r', linestyles='--')\n",
    "plt.legend()\n",
    "plt.title(\"Accuracy\")\n",
    "plt.show()"
   ]
  },
  {
   "cell_type": "code",
   "execution_count": null,
   "metadata": {},
   "outputs": [],
   "source": []
  }
 ],
 "metadata": {
  "kernelspec": {
   "display_name": "Python 3",
   "language": "python",
   "name": "python3"
  },
  "language_info": {
   "codemirror_mode": {
    "name": "ipython",
    "version": 3
   },
   "file_extension": ".py",
   "mimetype": "text/x-python",
   "name": "python",
   "nbconvert_exporter": "python",
   "pygments_lexer": "ipython3",
   "version": "3.7.3"
  }
 },
 "nbformat": 4,
 "nbformat_minor": 2
}
