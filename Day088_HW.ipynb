{
 "cells": [
  {
   "cell_type": "markdown",
   "metadata": {},
   "source": [
    "## Work\n",
    "1. 請嘗試寫一個 callback 用來記錄各類別在訓練過程中，對驗證集的 True Positive 與 True Negative"
   ]
  },
  {
   "cell_type": "code",
   "execution_count": 1,
   "metadata": {},
   "outputs": [
    {
     "name": "stderr",
     "output_type": "stream",
     "text": [
      "Using TensorFlow backend.\n"
     ]
    }
   ],
   "source": [
    "import os\n",
    "import keras\n",
    "\n",
    "# Disable GPU\n",
    "os.environ[\"CUDA_VISIBLE_DEVICES\"] = \"\""
   ]
  },
  {
   "cell_type": "code",
   "execution_count": 2,
   "metadata": {},
   "outputs": [],
   "source": [
    "train, test = keras.datasets.cifar10.load_data()"
   ]
  },
  {
   "cell_type": "code",
   "execution_count": 3,
   "metadata": {},
   "outputs": [],
   "source": [
    "## 資料前處理\n",
    "def preproc_x(x, flatten=True):\n",
    "    x = x / 255.\n",
    "    if flatten:\n",
    "        x = x.reshape((len(x), -1))\n",
    "    return x\n",
    "\n",
    "def preproc_y(y, num_classes=10):\n",
    "    if y.shape[-1] == 1:\n",
    "        y = keras.utils.to_categorical(y, num_classes)\n",
    "    return y    "
   ]
  },
  {
   "cell_type": "code",
   "execution_count": 4,
   "metadata": {},
   "outputs": [],
   "source": [
    "x_train, y_train = train\n",
    "x_test, y_test = test\n",
    "\n",
    "# Preproc the inputs\n",
    "x_train = preproc_x(x_train)\n",
    "x_test = preproc_x(x_test)\n",
    "\n",
    "# Preprc the outputs\n",
    "y_train = preproc_y(y_train)\n",
    "y_test = preproc_y(y_test)"
   ]
  },
  {
   "cell_type": "code",
   "execution_count": 5,
   "metadata": {},
   "outputs": [],
   "source": [
    "from keras.layers import BatchNormalization\n",
    "def build_mlp(input_shape, output_units=10, num_neurons=[256, 256, 256]):\n",
    "    \"\"\"Code Here\n",
    "    建立你的神經網路\n",
    "    \"\"\"\n",
    "    input_layer = keras.layers.Input(input_shape)\n",
    "    \n",
    "    for i, n_units in enumerate(num_neurons):\n",
    "        if i == 0:\n",
    "            x = keras.layers.Dense(units=n_units, \n",
    "                                   activation=\"relu\", \n",
    "                                   name=\"hidden_layer\"+str(i+1))(input_layer)\n",
    "            x = BatchNormalization()(x)\n",
    "        else:\n",
    "            x = keras.layers.Dense(units=n_units, \n",
    "                                   activation=\"relu\", \n",
    "                                   name=\"hidden_layer\"+str(i+1))(x)\n",
    "            x = BatchNormalization()(x)\n",
    "    \n",
    "    out = keras.layers.Dense(units=output_units, activation=\"softmax\", name=\"output\")(x)\n",
    "    \n",
    "    model = keras.models.Model(inputs=[input_layer], outputs=[out])\n",
    "    return model"
   ]
  },
  {
   "cell_type": "code",
   "execution_count": 6,
   "metadata": {},
   "outputs": [],
   "source": [
    "## 超參數設定\n",
    "LEARNING_RATE = 1e-3\n",
    "EPOCHS = 25\n",
    "BATCH_SIZE = 1024\n",
    "MOMENTUM = 0.95"
   ]
  },
  {
   "cell_type": "code",
   "execution_count": 7,
   "metadata": {},
   "outputs": [],
   "source": [
    "# 載入 Callbacks\n",
    "from keras.callbacks import Callback\n",
    "from sklearn.metrics import confusion_matrix\n",
    "\n",
    "# Record_fp_tp\n",
    "class Record_tp_tn(Callback):\n",
    "    \"\"\"Code Here\n",
    "    撰寫一個紀錄 ture positive 與 true negative 數量的 callbacks    \n",
    "    \"\"\"\n",
    "    def on_train_begin(self, epoch, logs = {}):\n",
    "        logs = logs or {}\n",
    "        record_items = [\"val_auc\", \"val_f1sc\", \"val_fp\", \"val_fn\", \"val_tp\", \"val_tn\"]\n",
    "        for i in record_items:\n",
    "            if i not in self.params['metrics']:\n",
    "                self.params['metrics'].append(i)\n",
    "    \n",
    "    def on_epoch_end(self, epoch, logs = {}, thres=0.5):\n",
    "        logs = logs or {}\n",
    "        y_true = self.validation_data[1].argmax(axis = 1)\n",
    "        y_pred = self.model.predict(self.validation_data[0])\n",
    "        y_pred = (y_pred[:, 1] >= thres) * 1\n",
    "        \n",
    "        logs[\"val_tp\"] = confusion_matrix(y_true, y_pred)[1][1]\n",
    "        logs[\"val_tn\"] = confusion_matrix(y_true, y_pred)[0][0]\n",
    "rec_tptn = Record_tp_tn()"
   ]
  },
  {
   "cell_type": "code",
   "execution_count": 9,
   "metadata": {
    "scrolled": true
   },
   "outputs": [
    {
     "name": "stdout",
     "output_type": "stream",
     "text": [
      "Model: \"model_2\"\n",
      "_________________________________________________________________\n",
      "Layer (type)                 Output Shape              Param #   \n",
      "=================================================================\n",
      "input_2 (InputLayer)         (None, 3072)              0         \n",
      "_________________________________________________________________\n",
      "hidden_layer1 (Dense)        (None, 256)               786688    \n",
      "_________________________________________________________________\n",
      "batch_normalization_4 (Batch (None, 256)               1024      \n",
      "_________________________________________________________________\n",
      "hidden_layer2 (Dense)        (None, 256)               65792     \n",
      "_________________________________________________________________\n",
      "batch_normalization_5 (Batch (None, 256)               1024      \n",
      "_________________________________________________________________\n",
      "hidden_layer3 (Dense)        (None, 256)               65792     \n",
      "_________________________________________________________________\n",
      "batch_normalization_6 (Batch (None, 256)               1024      \n",
      "_________________________________________________________________\n",
      "output (Dense)               (None, 10)                2570      \n",
      "=================================================================\n",
      "Total params: 923,914\n",
      "Trainable params: 922,378\n",
      "Non-trainable params: 1,536\n",
      "_________________________________________________________________\n",
      "Train on 50000 samples, validate on 10000 samples\n",
      "Epoch 1/25\n",
      "50000/50000 [==============================] - 4s 82us/step - loss: 2.2257 - accuracy: 0.2706 - val_loss: 2.1167 - val_accuracy: 0.2260\n",
      "Epoch 2/25\n",
      "50000/50000 [==============================] - 3s 68us/step - loss: 1.7722 - accuracy: 0.3860 - val_loss: 1.9839 - val_accuracy: 0.3061\n",
      "Epoch 3/25\n",
      "50000/50000 [==============================] - 3s 66us/step - loss: 1.6369 - accuracy: 0.4244 - val_loss: 1.8354 - val_accuracy: 0.3758\n",
      "Epoch 4/25\n",
      "50000/50000 [==============================] - 3s 69us/step - loss: 1.5576 - accuracy: 0.4573 - val_loss: 1.7061 - val_accuracy: 0.4144\n",
      "Epoch 5/25\n",
      "50000/50000 [==============================] - 4s 77us/step - loss: 1.4999 - accuracy: 0.4761 - val_loss: 1.6367 - val_accuracy: 0.4365\n",
      "Epoch 6/25\n",
      "50000/50000 [==============================] - 4s 73us/step - loss: 1.4575 - accuracy: 0.4902 - val_loss: 1.5695 - val_accuracy: 0.4537\n",
      "Epoch 7/25\n",
      "50000/50000 [==============================] - 3s 67us/step - loss: 1.4199 - accuracy: 0.5040 - val_loss: 1.5342 - val_accuracy: 0.4618\n",
      "Epoch 8/25\n",
      "50000/50000 [==============================] - 4s 74us/step - loss: 1.3879 - accuracy: 0.5163 - val_loss: 1.5167 - val_accuracy: 0.4677\n",
      "Epoch 9/25\n",
      "50000/50000 [==============================] - 4s 76us/step - loss: 1.3559 - accuracy: 0.5267 - val_loss: 1.5000 - val_accuracy: 0.4734\n",
      "Epoch 10/25\n",
      "50000/50000 [==============================] - 3s 69us/step - loss: 1.3292 - accuracy: 0.5366 - val_loss: 1.4916 - val_accuracy: 0.4720\n",
      "Epoch 11/25\n",
      "50000/50000 [==============================] - 4s 73us/step - loss: 1.3044 - accuracy: 0.5460 - val_loss: 1.4789 - val_accuracy: 0.4786\n",
      "Epoch 12/25\n",
      "50000/50000 [==============================] - 4s 73us/step - loss: 1.2789 - accuracy: 0.5543 - val_loss: 1.4785 - val_accuracy: 0.4824\n",
      "Epoch 13/25\n",
      "50000/50000 [==============================] - 3s 64us/step - loss: 1.2588 - accuracy: 0.5627 - val_loss: 1.4658 - val_accuracy: 0.4887\n",
      "Epoch 14/25\n",
      "50000/50000 [==============================] - 4s 72us/step - loss: 1.2361 - accuracy: 0.5705 - val_loss: 1.4586 - val_accuracy: 0.4904\n",
      "Epoch 15/25\n",
      "50000/50000 [==============================] - 4s 71us/step - loss: 1.2151 - accuracy: 0.5764 - val_loss: 1.4494 - val_accuracy: 0.4922\n",
      "Epoch 16/25\n",
      "50000/50000 [==============================] - 3s 67us/step - loss: 1.1958 - accuracy: 0.5836 - val_loss: 1.4790 - val_accuracy: 0.4827\n",
      "Epoch 17/25\n",
      "50000/50000 [==============================] - 4s 72us/step - loss: 1.1772 - accuracy: 0.5913 - val_loss: 1.4537 - val_accuracy: 0.4921\n",
      "Epoch 18/25\n",
      "50000/50000 [==============================] - 4s 70us/step - loss: 1.1565 - accuracy: 0.5989 - val_loss: 1.4399 - val_accuracy: 0.4944\n",
      "Epoch 19/25\n",
      "50000/50000 [==============================] - 4s 73us/step - loss: 1.1388 - accuracy: 0.6066 - val_loss: 1.4414 - val_accuracy: 0.4954\n",
      "Epoch 20/25\n",
      "50000/50000 [==============================] - 4s 79us/step - loss: 1.1190 - accuracy: 0.6133 - val_loss: 1.4385 - val_accuracy: 0.4936\n",
      "Epoch 21/25\n",
      "50000/50000 [==============================] - 4s 73us/step - loss: 1.1029 - accuracy: 0.6190 - val_loss: 1.4327 - val_accuracy: 0.5027\n",
      "Epoch 22/25\n",
      "50000/50000 [==============================] - 4s 73us/step - loss: 1.0868 - accuracy: 0.6258 - val_loss: 1.4414 - val_accuracy: 0.4932\n",
      "Epoch 23/25\n",
      "50000/50000 [==============================] - 4s 74us/step - loss: 1.0696 - accuracy: 0.6323 - val_loss: 1.4519 - val_accuracy: 0.4947\n",
      "Epoch 24/25\n",
      "50000/50000 [==============================] - 4s 73us/step - loss: 1.0529 - accuracy: 0.6399 - val_loss: 1.4408 - val_accuracy: 0.5012\n",
      "Epoch 25/25\n",
      "50000/50000 [==============================] - 3s 66us/step - loss: 1.0352 - accuracy: 0.6462 - val_loss: 1.4370 - val_accuracy: 0.4975\n"
     ]
    }
   ],
   "source": [
    "model = build_mlp(input_shape=x_train.shape[1:])\n",
    "model.summary()\n",
    "optimizer = keras.optimizers.SGD(lr=LEARNING_RATE, nesterov=True, momentum=MOMENTUM)\n",
    "model.compile(loss=\"categorical_crossentropy\", metrics=[\"accuracy\"], optimizer=optimizer)\n",
    "\n",
    "\"\"\"Code Here\n",
    "將 callbacks 放入模型訓練流程中\n",
    "\"\"\"\n",
    "model.fit(x_train, y_train, \n",
    "          epochs=EPOCHS, \n",
    "          batch_size=BATCH_SIZE, \n",
    "          validation_data=(x_test, y_test), \n",
    "          shuffle=True,\n",
    "          callbacks=[rec_tptn])\n",
    "\n",
    "# Collect results\n",
    "train_loss = model.history.history[\"loss\"]\n",
    "valid_loss = model.history.history[\"val_loss\"]\n",
    "train_acc = model.history.history[\"accuracy\"]\n",
    "valid_acc = model.history.history[\"val_accuracy\"]\n",
    "\n",
    "\"\"\"Code Here\n",
    "將 tp/tn 從訓練完的模型中取出\n",
    "\"\"\"\n",
    "valid_tp = model.history.history[\"val_tp\"]\n",
    "valid_tn = model.history.history[\"val_tn\"]"
   ]
  },
  {
   "cell_type": "code",
   "execution_count": 10,
   "metadata": {},
   "outputs": [
    {
     "data": {
      "image/png": "[encoded data removed]",
      "text/plain": [
       "<Figure size 432x288 with 1 Axes>"
      ]
     },
     "metadata": {
      "needs_background": "light"
     },
     "output_type": "display_data"
    },
    {
     "data": {
      "image/png": "[encoded data removed]",
      "text/plain": [
       "<Figure size 432x288 with 1 Axes>"
      ]
     },
     "metadata": {
      "needs_background": "light"
     },
     "output_type": "display_data"
    },
    {
     "data": {
      "image/png": "[encoded data removed]",
      "text/plain": [
       "<Figure size 432x288 with 1 Axes>"
      ]
     },
     "metadata": {
      "needs_background": "light"
     },
     "output_type": "display_data"
    }
   ],
   "source": [
    "import matplotlib.pyplot as plt\n",
    "%matplotlib inline\n",
    "\n",
    "plt.plot(range(len(train_loss)), train_loss, label=\"train loss\")\n",
    "plt.plot(range(len(valid_loss)), valid_loss, label=\"valid loss\")\n",
    "plt.legend()\n",
    "plt.title(\"Loss\")\n",
    "plt.show()\n",
    "\n",
    "plt.plot(range(len(train_acc)), train_acc, label=\"train accuracy\")\n",
    "plt.plot(range(len(valid_acc)), valid_acc, label=\"valid accuracy\")\n",
    "plt.legend()\n",
    "plt.title(\"Accuracy\")\n",
    "plt.show()\n",
    "\n",
    "plt.plot(range(len(valid_tp)), valid_tp, label=\"valid tp\", color=\"navy\")\n",
    "plt.plot(range(len(valid_tn)), valid_tn, label=\"valid tn\", color=\"red\")\n",
    "plt.legend()\n",
    "plt.title(\"True positives and True Negatives\")\n",
    "plt.show()\n"
   ]
  },
  {
   "cell_type": "code",
   "execution_count": null,
   "metadata": {},
   "outputs": [],
   "source": []
  }
 ],
 "metadata": {
  "kernelspec": {
   "display_name": "Python 3",
   "language": "python",
   "name": "python3"
  },
  "language_info": {
   "codemirror_mode": {
    "name": "ipython",
    "version": 3
   },
   "file_extension": ".py",
   "mimetype": "text/x-python",
   "name": "python",
   "nbconvert_exporter": "python",
   "pygments_lexer": "ipython3",
   "version": "3.7.3"
  }
 },
 "nbformat": 4,
 "nbformat_minor": 2
}
