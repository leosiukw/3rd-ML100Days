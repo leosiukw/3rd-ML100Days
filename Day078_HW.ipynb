{
 "cells": [
  {
   "cell_type": "markdown",
   "metadata": {},
   "source": [
    "## Work\n",
    "1. 請嘗試將 preproc_x 替換成以每筆資料的 min/max 進行標準化至 -1 ~ 1 間，再進行訓練\n",
    "2. 請嘗試將 mlp 疊更深 (e.g 5~10 層)，進行訓練後觀察 learning curve 的走勢\n",
    "3. (optional) 請改用 GPU 進行訓練 (如果你有 GPU 的話)，比較使用 CPU 與 GPU 的訓練速度"
   ]
  },
  {
   "cell_type": "code",
   "execution_count": 1,
   "metadata": {},
   "outputs": [
    {
     "ename": "NameError",
     "evalue": "name 'nvidia' is not defined",
     "output_type": "error",
     "traceback": [
      "\u001b[1;31m---------------------------------------------------------------------------\u001b[0m",
      "\u001b[1;31mNameError\u001b[0m                                 Traceback (most recent call last)",
      "\u001b[1;32m<ipython-input-1-a67ab856b5ce>\u001b[0m in \u001b[0;36m<module>\u001b[1;34m\u001b[0m\n\u001b[0;32m      4\u001b[0m \u001b[0m確認硬體資源\u001b[0m\u001b[1;33m\u001b[0m\u001b[1;33m\u001b[0m\u001b[0m\n\u001b[0;32m      5\u001b[0m \"\"\"\n\u001b[1;32m----> 6\u001b[1;33m \u001b[0mnvidia\u001b[0m\u001b[1;33m-\u001b[0m\u001b[0msmi\u001b[0m\u001b[1;33m.\u001b[0m\u001b[0mexe\u001b[0m \u001b[1;33m-\u001b[0m\u001b[0mh\u001b[0m\u001b[1;33m\u001b[0m\u001b[1;33m\u001b[0m\u001b[0m\n\u001b[0m",
      "\u001b[1;31mNameError\u001b[0m: name 'nvidia' is not defined"
     ]
    }
   ],
   "source": [
    "## \n",
    "\"\"\"\n",
    "Your code here (optional)\n",
    "確認硬體資源\n",
    "\"\"\"\n"
   ]
  },
  {
   "cell_type": "code",
   "execution_count": 1,
   "metadata": {},
   "outputs": [
    {
     "name": "stderr",
     "output_type": "stream",
     "text": [
      "Using TensorFlow backend.\n"
     ]
    }
   ],
   "source": [
    "import os\n",
    "import keras\n",
    "\n",
    "# 請嘗試設定 GPU：os.environ\n",
    "os.environ[\"CUDA_VISIBLE_DEVICES\"] = \"\""
   ]
  },
  {
   "cell_type": "code",
   "execution_count": 2,
   "metadata": {},
   "outputs": [],
   "source": [
    "train, test = keras.datasets.cifar10.load_data()"
   ]
  },
  {
   "cell_type": "code",
   "execution_count": 3,
   "metadata": {},
   "outputs": [],
   "source": [
    "## 資料前處理\n",
    "\"\"\"\n",
    "Your code here\n",
    "\"\"\"\n",
    "from sklearn.preprocessing import MinMaxScaler\n",
    "scaler = MinMaxScaler(feature_range= (-1, 1))\n",
    "\n",
    "\n",
    "def preproc_x(x, flatten=True):\n",
    "    x = x / 255.\n",
    "    if flatten:\n",
    "        x = x.reshape((len(x), -1))\n",
    "    return x\n",
    "\n",
    "def preproc_y(y, num_classes=10):\n",
    "    if y.shape[-1] == 1:\n",
    "        y = keras.utils.to_categorical(y, num_classes)\n",
    "    return y  "
   ]
  },
  {
   "cell_type": "code",
   "execution_count": 4,
   "metadata": {},
   "outputs": [],
   "source": [
    "x_train, y_train = train\n",
    "x_test, y_test = test\n",
    "\n",
    "# Preproc the inputs\n",
    "x_train = preproc_x(x_train)\n",
    "x_test = preproc_x(x_test)\n",
    "\n",
    "# Preprc the outputs\n",
    "y_train = preproc_y(y_train)\n",
    "y_test = preproc_y(y_test)"
   ]
  },
  {
   "cell_type": "code",
   "execution_count": 5,
   "metadata": {},
   "outputs": [
    {
     "name": "stdout",
     "output_type": "stream",
     "text": [
      "Model: \"model_1\"\n",
      "_________________________________________________________________\n",
      "Layer (type)                 Output Shape              Param #   \n",
      "=================================================================\n",
      "input_1 (InputLayer)         (None, 3072)              0         \n",
      "_________________________________________________________________\n",
      "hidden_layer1 (Dense)        (None, 512)               1573376   \n",
      "_________________________________________________________________\n",
      "hidden_layer2 (Dense)        (None, 256)               131328    \n",
      "_________________________________________________________________\n",
      "hidden_layer3 (Dense)        (None, 128)               32896     \n",
      "_________________________________________________________________\n",
      "hidden_layer4 (Dense)        (None, 64)                8256      \n",
      "_________________________________________________________________\n",
      "hidden_layer5 (Dense)        (None, 32)                2080      \n",
      "_________________________________________________________________\n",
      "output (Dense)               (None, 10)                330       \n",
      "=================================================================\n",
      "Total params: 1,748,266\n",
      "Trainable params: 1,748,266\n",
      "Non-trainable params: 0\n",
      "_________________________________________________________________\n"
     ]
    }
   ],
   "source": [
    "\"\"\"Code Here\n",
    "建立你的神經網路\n",
    "\"\"\"\n",
    "def build_mlp(input_shape, output_units=10, num_neurons=[512, 256, 128, 64, 32]):\n",
    "    input_layer = keras.layers.Input(input_shape)\n",
    "    \n",
    "    for i, n_units in enumerate(num_neurons):\n",
    "        if i == 0:\n",
    "            x = keras.layers.Dense(units=n_units, activation=\"relu\", name=\"hidden_layer\"+str(i+1))(input_layer)\n",
    "        else:\n",
    "            x = keras.layers.Dense(units=n_units, activation=\"relu\", name=\"hidden_layer\"+str(i+1))(x)\n",
    "    \n",
    "    out = keras.layers.Dense(units=output_units, activation=\"softmax\", name=\"output\")(x)\n",
    "    \n",
    "    model = keras.models.Model(inputs=[input_layer], outputs=[out])\n",
    "    return model\n",
    "\n",
    "model = build_mlp(input_shape=x_train.shape[1:])\n",
    "model.summary()"
   ]
  },
  {
   "cell_type": "code",
   "execution_count": 6,
   "metadata": {},
   "outputs": [],
   "source": [
    "## 超參數設定\n",
    "LEARNING_RATE = 0.001\n",
    "EPOCHS = 100\n",
    "BATCH_SIZE = 256"
   ]
  },
  {
   "cell_type": "code",
   "execution_count": 7,
   "metadata": {},
   "outputs": [],
   "source": [
    "optimizer = keras.optimizers.Adam(lr=LEARNING_RATE)\n",
    "model.compile(loss=\"categorical_crossentropy\", metrics=[\"accuracy\"], optimizer=optimizer)"
   ]
  },
  {
   "cell_type": "code",
   "execution_count": 8,
   "metadata": {},
   "outputs": [
    {
     "name": "stdout",
     "output_type": "stream",
     "text": [
      "Train on 50000 samples, validate on 10000 samples\n",
      "Epoch 1/100\n",
      "50000/50000 [==============================] - 8s 153us/step - loss: 2.0538 - accuracy: 0.2498 - val_loss: 1.9142 - val_accuracy: 0.2964\n",
      "Epoch 2/100\n",
      "50000/50000 [==============================] - 8s 163us/step - loss: 1.7874 - accuracy: 0.3528 - val_loss: 1.7198 - val_accuracy: 0.3801\n",
      "Epoch 3/100\n",
      "50000/50000 [==============================] - 8s 155us/step - loss: 1.6868 - accuracy: 0.3934 - val_loss: 1.6314 - val_accuracy: 0.4156\n",
      "Epoch 4/100\n",
      "50000/50000 [==============================] - 8s 161us/step - loss: 1.6146 - accuracy: 0.4234 - val_loss: 1.5781 - val_accuracy: 0.4401\n",
      "Epoch 5/100\n",
      "50000/50000 [==============================] - 8s 155us/step - loss: 1.5474 - accuracy: 0.4482 - val_loss: 1.6126 - val_accuracy: 0.4233\n",
      "Epoch 6/100\n",
      "50000/50000 [==============================] - 7s 148us/step - loss: 1.5024 - accuracy: 0.4661 - val_loss: 1.5397 - val_accuracy: 0.4555\n",
      "Epoch 7/100\n",
      "50000/50000 [==============================] - 8s 153us/step - loss: 1.4616 - accuracy: 0.4776 - val_loss: 1.4862 - val_accuracy: 0.4739\n",
      "Epoch 8/100\n",
      "50000/50000 [==============================] - 7s 148us/step - loss: 1.4327 - accuracy: 0.4905 - val_loss: 1.4405 - val_accuracy: 0.4885\n",
      "Epoch 9/100\n",
      "50000/50000 [==============================] - 8s 152us/step - loss: 1.4019 - accuracy: 0.5007 - val_loss: 1.4730 - val_accuracy: 0.4769\n",
      "Epoch 10/100\n",
      "50000/50000 [==============================] - 8s 158us/step - loss: 1.3788 - accuracy: 0.5066 - val_loss: 1.4653 - val_accuracy: 0.4854\n",
      "Epoch 11/100\n",
      "50000/50000 [==============================] - 7s 147us/step - loss: 1.3523 - accuracy: 0.5158 - val_loss: 1.4213 - val_accuracy: 0.4976\n",
      "Epoch 12/100\n",
      "50000/50000 [==============================] - 7s 146us/step - loss: 1.3183 - accuracy: 0.5269 - val_loss: 1.3993 - val_accuracy: 0.5079\n",
      "Epoch 13/100\n",
      "50000/50000 [==============================] - 7s 146us/step - loss: 1.3007 - accuracy: 0.5387 - val_loss: 1.4132 - val_accuracy: 0.5007\n",
      "Epoch 14/100\n",
      "50000/50000 [==============================] - 8s 170us/step - loss: 1.2680 - accuracy: 0.5475 - val_loss: 1.4004 - val_accuracy: 0.5081\n",
      "Epoch 15/100\n",
      "50000/50000 [==============================] - 10s 208us/step - loss: 1.2470 - accuracy: 0.5558 - val_loss: 1.3805 - val_accuracy: 0.5123\n",
      "Epoch 16/100\n",
      "50000/50000 [==============================] - 12s 248us/step - loss: 1.2361 - accuracy: 0.5579 - val_loss: 1.3606 - val_accuracy: 0.5136\n",
      "Epoch 17/100\n",
      "50000/50000 [==============================] - 10s 195us/step - loss: 1.2068 - accuracy: 0.5687 - val_loss: 1.3733 - val_accuracy: 0.5153\n",
      "Epoch 18/100\n",
      "50000/50000 [==============================] - 9s 188us/step - loss: 1.1878 - accuracy: 0.5762 - val_loss: 1.3790 - val_accuracy: 0.5160\n",
      "Epoch 19/100\n",
      "50000/50000 [==============================] - 9s 176us/step - loss: 1.1669 - accuracy: 0.5824 - val_loss: 1.3694 - val_accuracy: 0.5173\n",
      "Epoch 20/100\n",
      "50000/50000 [==============================] - 9s 182us/step - loss: 1.1471 - accuracy: 0.5906 - val_loss: 1.3806 - val_accuracy: 0.5139\n",
      "Epoch 21/100\n",
      "50000/50000 [==============================] - 8s 170us/step - loss: 1.1215 - accuracy: 0.5980 - val_loss: 1.3635 - val_accuracy: 0.5211\n",
      "Epoch 22/100\n",
      "50000/50000 [==============================] - 8s 162us/step - loss: 1.0998 - accuracy: 0.6044 - val_loss: 1.3492 - val_accuracy: 0.5352\n",
      "Epoch 23/100\n",
      "50000/50000 [==============================] - 8s 170us/step - loss: 1.0836 - accuracy: 0.6125 - val_loss: 1.3517 - val_accuracy: 0.5297\n",
      "Epoch 24/100\n",
      "50000/50000 [==============================] - 9s 179us/step - loss: 1.0669 - accuracy: 0.6203 - val_loss: 1.4059 - val_accuracy: 0.5172\n",
      "Epoch 25/100\n",
      "50000/50000 [==============================] - 8s 167us/step - loss: 1.0629 - accuracy: 0.6207 - val_loss: 1.4184 - val_accuracy: 0.5090\n",
      "Epoch 26/100\n",
      "50000/50000 [==============================] - 9s 172us/step - loss: 1.0313 - accuracy: 0.6293 - val_loss: 1.3899 - val_accuracy: 0.5318\n",
      "Epoch 27/100\n",
      "50000/50000 [==============================] - 9s 181us/step - loss: 1.0161 - accuracy: 0.6372 - val_loss: 1.3695 - val_accuracy: 0.5337\n",
      "Epoch 28/100\n",
      "50000/50000 [==============================] - 9s 181us/step - loss: 0.9888 - accuracy: 0.6446 - val_loss: 1.4439 - val_accuracy: 0.5175\n",
      "Epoch 29/100\n",
      "50000/50000 [==============================] - 8s 154us/step - loss: 0.9766 - accuracy: 0.6502 - val_loss: 1.4446 - val_accuracy: 0.5212\n",
      "Epoch 30/100\n",
      "50000/50000 [==============================] - 7s 150us/step - loss: 0.9553 - accuracy: 0.6564 - val_loss: 1.4651 - val_accuracy: 0.5253\n",
      "Epoch 31/100\n",
      "50000/50000 [==============================] - 8s 153us/step - loss: 0.9405 - accuracy: 0.6627 - val_loss: 1.4508 - val_accuracy: 0.5227\n",
      "Epoch 32/100\n",
      "50000/50000 [==============================] - 7s 150us/step - loss: 0.9175 - accuracy: 0.6704 - val_loss: 1.4780 - val_accuracy: 0.5220\n",
      "Epoch 33/100\n",
      "50000/50000 [==============================] - 7s 149us/step - loss: 0.9000 - accuracy: 0.6784 - val_loss: 1.4627 - val_accuracy: 0.5267\n",
      "Epoch 34/100\n",
      "50000/50000 [==============================] - 7s 144us/step - loss: 0.8805 - accuracy: 0.6836 - val_loss: 1.5079 - val_accuracy: 0.5180\n",
      "Epoch 35/100\n",
      "50000/50000 [==============================] - 7s 144us/step - loss: 0.8602 - accuracy: 0.6924 - val_loss: 1.5247 - val_accuracy: 0.5204\n",
      "Epoch 36/100\n",
      "50000/50000 [==============================] - 7s 146us/step - loss: 0.8566 - accuracy: 0.6921 - val_loss: 1.5361 - val_accuracy: 0.5196\n",
      "Epoch 37/100\n",
      "50000/50000 [==============================] - 7s 145us/step - loss: 0.8284 - accuracy: 0.7040 - val_loss: 1.6167 - val_accuracy: 0.5130\n",
      "Epoch 38/100\n",
      "50000/50000 [==============================] - 7s 149us/step - loss: 0.8155 - accuracy: 0.7047 - val_loss: 1.5573 - val_accuracy: 0.5206\n",
      "Epoch 39/100\n",
      "50000/50000 [==============================] - 8s 160us/step - loss: 0.7982 - accuracy: 0.7125 - val_loss: 1.5908 - val_accuracy: 0.5101\n",
      "Epoch 40/100\n",
      "50000/50000 [==============================] - 7s 149us/step - loss: 0.7794 - accuracy: 0.7217 - val_loss: 1.5902 - val_accuracy: 0.5264\n",
      "Epoch 41/100\n",
      "50000/50000 [==============================] - 8s 164us/step - loss: 0.7672 - accuracy: 0.7256 - val_loss: 1.7084 - val_accuracy: 0.5004\n",
      "Epoch 42/100\n",
      "50000/50000 [==============================] - 7s 149us/step - loss: 0.7650 - accuracy: 0.7228 - val_loss: 1.6372 - val_accuracy: 0.5137\n",
      "Epoch 43/100\n",
      "50000/50000 [==============================] - 8s 151us/step - loss: 0.7390 - accuracy: 0.7370 - val_loss: 1.6222 - val_accuracy: 0.5141\n",
      "Epoch 44/100\n",
      "50000/50000 [==============================] - 7s 149us/step - loss: 0.7141 - accuracy: 0.7428 - val_loss: 1.7553 - val_accuracy: 0.5068\n",
      "Epoch 45/100\n",
      "50000/50000 [==============================] - 7s 150us/step - loss: 0.7107 - accuracy: 0.7450 - val_loss: 1.7343 - val_accuracy: 0.5132\n",
      "Epoch 46/100\n",
      "50000/50000 [==============================] - 8s 151us/step - loss: 0.6846 - accuracy: 0.7562 - val_loss: 1.7384 - val_accuracy: 0.5193\n",
      "Epoch 47/100\n",
      "50000/50000 [==============================] - 7s 144us/step - loss: 0.6791 - accuracy: 0.7551 - val_loss: 1.7831 - val_accuracy: 0.5114\n",
      "Epoch 48/100\n",
      "50000/50000 [==============================] - 7s 149us/step - loss: 0.6690 - accuracy: 0.7595 - val_loss: 1.8385 - val_accuracy: 0.5152\n",
      "Epoch 49/100\n",
      "50000/50000 [==============================] - 8s 160us/step - loss: 0.6488 - accuracy: 0.7657 - val_loss: 1.8566 - val_accuracy: 0.5137\n",
      "Epoch 50/100\n",
      "50000/50000 [==============================] - 8s 150us/step - loss: 0.6320 - accuracy: 0.7751 - val_loss: 1.8904 - val_accuracy: 0.5150\n",
      "Epoch 51/100\n",
      "50000/50000 [==============================] - 8s 162us/step - loss: 0.6337 - accuracy: 0.7735 - val_loss: 1.8458 - val_accuracy: 0.5222\n",
      "Epoch 52/100\n",
      "50000/50000 [==============================] - 8s 152us/step - loss: 0.6021 - accuracy: 0.7853 - val_loss: 1.9554 - val_accuracy: 0.5041\n",
      "Epoch 53/100\n",
      "50000/50000 [==============================] - 7s 149us/step - loss: 0.5946 - accuracy: 0.7863 - val_loss: 1.9418 - val_accuracy: 0.5147\n",
      "Epoch 54/100\n",
      "50000/50000 [==============================] - 8s 157us/step - loss: 0.5951 - accuracy: 0.7848 - val_loss: 1.9394 - val_accuracy: 0.5121\n",
      "Epoch 55/100\n",
      "50000/50000 [==============================] - 8s 169us/step - loss: 0.5769 - accuracy: 0.7914 - val_loss: 1.9762 - val_accuracy: 0.5185\n",
      "Epoch 56/100\n",
      "50000/50000 [==============================] - 8s 152us/step - loss: 0.5719 - accuracy: 0.7949 - val_loss: 1.9869 - val_accuracy: 0.5156\n",
      "Epoch 57/100\n",
      "50000/50000 [==============================] - 7s 147us/step - loss: 0.5676 - accuracy: 0.7969 - val_loss: 2.0403 - val_accuracy: 0.5127\n",
      "Epoch 58/100\n",
      "50000/50000 [==============================] - 7s 149us/step - loss: 0.5561 - accuracy: 0.8012 - val_loss: 2.0632 - val_accuracy: 0.5134\n",
      "Epoch 59/100\n",
      "50000/50000 [==============================] - 8s 152us/step - loss: 0.5307 - accuracy: 0.8100 - val_loss: 2.0991 - val_accuracy: 0.5118\n",
      "Epoch 60/100\n",
      "50000/50000 [==============================] - 7s 147us/step - loss: 0.5438 - accuracy: 0.8041 - val_loss: 2.1755 - val_accuracy: 0.5032\n",
      "Epoch 61/100\n",
      "50000/50000 [==============================] - 7s 145us/step - loss: 0.5302 - accuracy: 0.8091 - val_loss: 2.1529 - val_accuracy: 0.5096\n",
      "Epoch 62/100\n",
      "50000/50000 [==============================] - 7s 146us/step - loss: 0.5140 - accuracy: 0.8157 - val_loss: 2.1969 - val_accuracy: 0.5083\n",
      "Epoch 63/100\n",
      "50000/50000 [==============================] - 7s 145us/step - loss: 0.5049 - accuracy: 0.8181 - val_loss: 2.2483 - val_accuracy: 0.5044\n",
      "Epoch 64/100\n",
      "50000/50000 [==============================] - 7s 149us/step - loss: 0.4982 - accuracy: 0.8227 - val_loss: 2.2075 - val_accuracy: 0.5121\n",
      "Epoch 65/100\n",
      "50000/50000 [==============================] - 8s 163us/step - loss: 0.4841 - accuracy: 0.8258 - val_loss: 2.2704 - val_accuracy: 0.5092\n",
      "Epoch 66/100\n",
      "50000/50000 [==============================] - 8s 162us/step - loss: 0.4695 - accuracy: 0.8316 - val_loss: 2.2971 - val_accuracy: 0.5035\n",
      "Epoch 67/100\n",
      "50000/50000 [==============================] - 8s 156us/step - loss: 0.4711 - accuracy: 0.8324 - val_loss: 2.3394 - val_accuracy: 0.5140\n",
      "Epoch 68/100\n",
      "50000/50000 [==============================] - 9s 174us/step - loss: 0.4483 - accuracy: 0.8390 - val_loss: 2.3736 - val_accuracy: 0.5027\n",
      "Epoch 69/100\n",
      "50000/50000 [==============================] - 8s 161us/step - loss: 0.4744 - accuracy: 0.8303 - val_loss: 2.3666 - val_accuracy: 0.5080\n",
      "Epoch 70/100\n",
      "50000/50000 [==============================] - 9s 171us/step - loss: 0.4646 - accuracy: 0.8339 - val_loss: 2.4848 - val_accuracy: 0.5013\n",
      "Epoch 71/100\n",
      "50000/50000 [==============================] - 9s 171us/step - loss: 0.4654 - accuracy: 0.8327 - val_loss: 2.3879 - val_accuracy: 0.5099\n",
      "Epoch 72/100\n",
      "50000/50000 [==============================] - 8s 165us/step - loss: 0.4213 - accuracy: 0.8497 - val_loss: 2.5078 - val_accuracy: 0.5066\n",
      "Epoch 73/100\n",
      "50000/50000 [==============================] - 9s 175us/step - loss: 0.4135 - accuracy: 0.8524 - val_loss: 2.5157 - val_accuracy: 0.5067\n",
      "Epoch 74/100\n",
      "50000/50000 [==============================] - 8s 155us/step - loss: 0.4211 - accuracy: 0.8485 - val_loss: 2.5579 - val_accuracy: 0.4948\n",
      "Epoch 75/100\n",
      "50000/50000 [==============================] - 8s 169us/step - loss: 0.4150 - accuracy: 0.8503 - val_loss: 2.5735 - val_accuracy: 0.4993\n",
      "Epoch 76/100\n",
      "50000/50000 [==============================] - 9s 176us/step - loss: 0.3874 - accuracy: 0.8616 - val_loss: 2.6305 - val_accuracy: 0.5049\n",
      "Epoch 77/100\n",
      "50000/50000 [==============================] - 8s 156us/step - loss: 0.3960 - accuracy: 0.8583 - val_loss: 2.6356 - val_accuracy: 0.5062\n",
      "Epoch 78/100\n",
      "50000/50000 [==============================] - 7s 145us/step - loss: 0.4141 - accuracy: 0.8525 - val_loss: 2.6455 - val_accuracy: 0.5095\n",
      "Epoch 79/100\n",
      "50000/50000 [==============================] - 8s 152us/step - loss: 0.3822 - accuracy: 0.8622 - val_loss: 2.7345 - val_accuracy: 0.4965\n",
      "Epoch 80/100\n",
      "50000/50000 [==============================] - 8s 164us/step - loss: 0.3933 - accuracy: 0.8592 - val_loss: 2.7019 - val_accuracy: 0.5107\n",
      "Epoch 81/100\n",
      "50000/50000 [==============================] - 8s 153us/step - loss: 0.3628 - accuracy: 0.8705 - val_loss: 2.8712 - val_accuracy: 0.4962\n",
      "Epoch 82/100\n",
      "50000/50000 [==============================] - 7s 145us/step - loss: 0.3999 - accuracy: 0.8548 - val_loss: 2.7941 - val_accuracy: 0.4977\n",
      "Epoch 83/100\n",
      "50000/50000 [==============================] - 7s 145us/step - loss: 0.3687 - accuracy: 0.8671 - val_loss: 2.7545 - val_accuracy: 0.5044\n",
      "Epoch 84/100\n",
      "50000/50000 [==============================] - 7s 144us/step - loss: 0.3590 - accuracy: 0.8713 - val_loss: 2.8837 - val_accuracy: 0.5047\n",
      "Epoch 85/100\n",
      "50000/50000 [==============================] - 8s 155us/step - loss: 0.3461 - accuracy: 0.8759 - val_loss: 3.0257 - val_accuracy: 0.4974\n",
      "Epoch 86/100\n",
      "50000/50000 [==============================] - 7s 149us/step - loss: 0.3725 - accuracy: 0.8663 - val_loss: 2.9249 - val_accuracy: 0.5058\n",
      "Epoch 87/100\n",
      "50000/50000 [==============================] - 7s 146us/step - loss: 0.3403 - accuracy: 0.8776 - val_loss: 2.9651 - val_accuracy: 0.5036\n",
      "Epoch 88/100\n",
      "50000/50000 [==============================] - 7s 144us/step - loss: 0.3405 - accuracy: 0.8773 - val_loss: 3.0776 - val_accuracy: 0.5008\n",
      "Epoch 89/100\n",
      "50000/50000 [==============================] - 7s 145us/step - loss: 0.3346 - accuracy: 0.8794 - val_loss: 2.9950 - val_accuracy: 0.5129\n",
      "Epoch 90/100\n",
      "50000/50000 [==============================] - 7s 144us/step - loss: 0.3584 - accuracy: 0.8719 - val_loss: 3.0316 - val_accuracy: 0.5015\n",
      "Epoch 91/100\n",
      "50000/50000 [==============================] - 7s 144us/step - loss: 0.3458 - accuracy: 0.8766 - val_loss: 3.0199 - val_accuracy: 0.4939\n",
      "Epoch 92/100\n",
      "50000/50000 [==============================] - 7s 144us/step - loss: 0.3337 - accuracy: 0.8814 - val_loss: 3.0732 - val_accuracy: 0.5024\n",
      "Epoch 93/100\n",
      "50000/50000 [==============================] - 7s 144us/step - loss: 0.3101 - accuracy: 0.8890 - val_loss: 3.0706 - val_accuracy: 0.5004\n",
      "Epoch 94/100\n",
      "50000/50000 [==============================] - 7s 144us/step - loss: 0.3150 - accuracy: 0.8855 - val_loss: 3.1927 - val_accuracy: 0.4998\n",
      "Epoch 95/100\n",
      "50000/50000 [==============================] - 7s 144us/step - loss: 0.3183 - accuracy: 0.8876 - val_loss: 3.1604 - val_accuracy: 0.5041\n",
      "Epoch 96/100\n",
      "50000/50000 [==============================] - 7s 143us/step - loss: 0.3055 - accuracy: 0.8907 - val_loss: 3.2556 - val_accuracy: 0.5024\n",
      "Epoch 97/100\n",
      "50000/50000 [==============================] - 7s 143us/step - loss: 0.2934 - accuracy: 0.8960 - val_loss: 3.2376 - val_accuracy: 0.5021\n",
      "Epoch 98/100\n",
      "50000/50000 [==============================] - 7s 144us/step - loss: 0.3446 - accuracy: 0.8761 - val_loss: 3.1663 - val_accuracy: 0.5094\n",
      "Epoch 99/100\n",
      "50000/50000 [==============================] - 7s 144us/step - loss: 0.3185 - accuracy: 0.8844 - val_loss: 3.3031 - val_accuracy: 0.5025\n",
      "Epoch 100/100\n",
      "50000/50000 [==============================] - 7s 144us/step - loss: 0.2872 - accuracy: 0.8973 - val_loss: 3.2857 - val_accuracy: 0.4957\n"
     ]
    },
    {
     "data": {
      "text/plain": [
       "<keras.callbacks.callbacks.History at 0x1d43b21f208>"
      ]
     },
     "execution_count": 8,
     "metadata": {},
     "output_type": "execute_result"
    }
   ],
   "source": [
    "model.fit(x_train, y_train, \n",
    "          epochs=EPOCHS, \n",
    "          batch_size=BATCH_SIZE, \n",
    "          validation_data=(x_test, y_test), \n",
    "          shuffle=True)"
   ]
  },
  {
   "cell_type": "code",
   "execution_count": 9,
   "metadata": {},
   "outputs": [
    {
     "data": {
      "text/plain": [
       "<Figure size 640x480 with 1 Axes>"
      ]
     },
     "metadata": {},
     "output_type": "display_data"
    },
    {
     "data": {
      "text/plain": [
       "<Figure size 640x480 with 1 Axes>"
      ]
     },
     "metadata": {},
     "output_type": "display_data"
    }
   ],
   "source": [
    "import matplotlib.pyplot as plt\n",
    "\n",
    "\n",
    "train_loss = model.history.history[\"loss\"]\n",
    "valid_loss = model.history.history[\"val_loss\"]\n",
    "\n",
    "train_acc = model.history.history[\"accuracy\"]\n",
    "valid_acc = model.history.history[\"val_accuracy\"]\n",
    "\n",
    "plt.plot(range(len(train_loss)), train_loss, label=\"train loss\")\n",
    "plt.plot(range(len(valid_loss)), valid_loss, label=\"valid loss\")\n",
    "plt.legend()\n",
    "plt.title(\"Loss\")\n",
    "plt.show()\n",
    "\n",
    "plt.plot(range(len(train_acc)), train_acc, label=\"train accuracy\")\n",
    "plt.plot(range(len(valid_acc)), valid_acc, label=\"valid accuracy\")\n",
    "plt.legend()\n",
    "plt.title(\"Accuracy\")\n",
    "plt.show()"
   ]
  },
  {
   "cell_type": "code",
   "execution_count": 10,
   "metadata": {},
   "outputs": [],
   "source": []
  },
  {
   "cell_type": "code",
   "execution_count": null,
   "metadata": {},
   "outputs": [],
   "source": []
  }
 ],
 "metadata": {
  "kernelspec": {
   "display_name": "Python 3",
   "language": "python",
   "name": "python3"
  },
  "language_info": {
   "codemirror_mode": {
    "name": "ipython",
    "version": 3
   },
   "file_extension": ".py",
   "mimetype": "text/x-python",
   "name": "python",
   "nbconvert_exporter": "python",
   "pygments_lexer": "ipython3",
   "version": "3.7.3"
  }
 },
 "nbformat": 4,
 "nbformat_minor": 2
}
